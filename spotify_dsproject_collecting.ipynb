{
  "nbformat": 4,
  "nbformat_minor": 0,
  "metadata": {
    "colab": {
      "provenance": [],
      "collapsed_sections": [],
      "mount_file_id": "1XtANHZCFeQzuN7sua4eW0qAxvQ826ta1",
      "authorship_tag": "ABX9TyN042Vdxxm12i0QWiBe2Sar",
      "include_colab_link": true
    },
    "kernelspec": {
      "name": "python3",
      "display_name": "Python 3"
    },
    "language_info": {
      "name": "python"
    }
  },
  "cells": [
    {
      "cell_type": "markdown",
      "metadata": {
        "id": "view-in-github",
        "colab_type": "text"
      },
      "source": [
        "<a href=\"https://colab.research.google.com/github/gfrts/spotify_dsproject/blob/main/spotify_dsproject_collecting.ipynb\" target=\"_parent\"><img src=\"https://colab.research.google.com/assets/colab-badge.svg\" alt=\"Open In Colab\"/></a>"
      ]
    },
    {
      "cell_type": "code",
      "metadata": {
        "colab": {
          "base_uri": "https://localhost:8080/"
        },
        "id": "ERS9swQAXjaJ",
        "outputId": "a54b7e6d-6e77-41f9-9225-4eced3fa5963"
      },
      "source": [
        "!pip install spotipy"
      ],
      "execution_count": null,
      "outputs": [
        {
          "output_type": "stream",
          "text": [
            "Collecting spotipy\n",
            "  Downloading https://files.pythonhosted.org/packages/02/9b/25b96cd2f1e2174ac787099b386e2afd427bf78dfb11e1c5857affc3409d/spotipy-2.18.0-py3-none-any.whl\n",
            "Collecting urllib3>=1.26.0\n",
            "\u001b[?25l  Downloading https://files.pythonhosted.org/packages/0c/cd/1e2ec680ec7b09846dc6e605f5a7709dfb9d7128e51a026e7154e18a234e/urllib3-1.26.5-py2.py3-none-any.whl (138kB)\n",
            "\u001b[K     |████████████████████████████████| 143kB 4.6MB/s \n",
            "\u001b[?25hRequirement already satisfied: six>=1.15.0 in /usr/local/lib/python3.7/dist-packages (from spotipy) (1.15.0)\n",
            "Collecting requests>=2.25.0\n",
            "\u001b[?25l  Downloading https://files.pythonhosted.org/packages/29/c1/24814557f1d22c56d50280771a17307e6bf87b70727d975fd6b2ce6b014a/requests-2.25.1-py2.py3-none-any.whl (61kB)\n",
            "\u001b[K     |████████████████████████████████| 61kB 7.0MB/s \n",
            "\u001b[?25hRequirement already satisfied: chardet<5,>=3.0.2 in /usr/local/lib/python3.7/dist-packages (from requests>=2.25.0->spotipy) (3.0.4)\n",
            "Requirement already satisfied: certifi>=2017.4.17 in /usr/local/lib/python3.7/dist-packages (from requests>=2.25.0->spotipy) (2020.12.5)\n",
            "Requirement already satisfied: idna<3,>=2.5 in /usr/local/lib/python3.7/dist-packages (from requests>=2.25.0->spotipy) (2.10)\n",
            "\u001b[31mERROR: google-colab 1.0.0 has requirement requests~=2.23.0, but you'll have requests 2.25.1 which is incompatible.\u001b[0m\n",
            "\u001b[31mERROR: datascience 0.10.6 has requirement folium==0.2.1, but you'll have folium 0.8.3 which is incompatible.\u001b[0m\n",
            "Installing collected packages: urllib3, requests, spotipy\n",
            "  Found existing installation: urllib3 1.24.3\n",
            "    Uninstalling urllib3-1.24.3:\n",
            "      Successfully uninstalled urllib3-1.24.3\n",
            "  Found existing installation: requests 2.23.0\n",
            "    Uninstalling requests-2.23.0:\n",
            "      Successfully uninstalled requests-2.23.0\n",
            "Successfully installed requests-2.25.1 spotipy-2.18.0 urllib3-1.26.5\n"
          ],
          "name": "stdout"
        }
      ]
    },
    {
      "cell_type": "code",
      "metadata": {
        "id": "gpi6FD64MgO2"
      },
      "source": [
        "import spotipy\n",
        "from spotipy.oauth2 import SpotifyClientCredentials\n",
        "import pandas as pd\n",
        "from time import sleep"
      ],
      "execution_count": null,
      "outputs": []
    },
    {
      "cell_type": "code",
      "metadata": {
        "id": "qLzOZbdwXJSZ"
      },
      "source": [
        "client_id = '<YOUR_CLIENT_ID>'\n",
        "client_secret = '<YOUR_CLIENT_SECRET>'"
      ],
      "execution_count": null,
      "outputs": []
    },
    {
      "cell_type": "code",
      "metadata": {
        "id": "73_2F_w0X4G1"
      },
      "source": [
        "client_credentials_manager = SpotifyClientCredentials(client_id, client_secret)"
      ],
      "execution_count": null,
      "outputs": []
    },
    {
      "cell_type": "code",
      "metadata": {
        "id": "jiXcsElxX8Ar"
      },
      "source": [
        "sp = spotipy.Spotify(client_credentials_manager=client_credentials_manager)"
      ],
      "execution_count": null,
      "outputs": []
    },
    {
      "cell_type": "code",
      "metadata": {
        "id": "4A7OHop2_gho"
      },
      "source": [
        "def get_some_playlists_tracks(playlists_infos):\n",
        "  tracks = []\n",
        "  len_playlist_anterior = 0\n",
        "  for item in playlists_infos:\n",
        "    results = sp.user_playlist_tracks(item['username'], item['playlist_id'])\n",
        "    tracks.extend(results['items'])\n",
        "    while results['next']:\n",
        "      results = sp.next(results)\n",
        "      tracks.extend(results['items'])\n",
        "    for i in range(len_playlist_anterior, (results['total']) + len_playlist_anterior):\n",
        "      tracks[i]['track']['genre'] = item['genre']\n",
        "    len_playlist_anterior += (results['total'])\n",
        "  return tracks"
      ],
      "execution_count": null,
      "outputs": []
    },
    {
      "cell_type": "code",
      "metadata": {
        "id": "Mgaw0wOyalpo"
      },
      "source": [
        "def mount_tracks_list(lista):\n",
        "  result = []\n",
        "  for item in lista:\n",
        "    result.append({'id': item['track']['id'], 'name': item['track']['name'], 'genre': item['track']['genre'], 'artist': item['track']['artists'][0]['name']})\n",
        "  return result"
      ],
      "execution_count": null,
      "outputs": []
    },
    {
      "cell_type": "code",
      "metadata": {
        "id": "boS3NGQKjhCD"
      },
      "source": [
        "def mount_tracks_list_audio_features(tracks_list):\n",
        "  result = []\n",
        "  for i in range(len(tracks_list)):\n",
        "    sleep(.3)\n",
        "    audio_features = sp.audio_features(tracks_list[i]['id'])\n",
        "    temp_dict = {'id': tracks_list[i]['id'],\n",
        "                 'name': tracks_list[i]['name'],\n",
        "                 'artist': tracks_list[i]['artist'],\n",
        "                 'genre': tracks_list[i]['genre'],\n",
        "                 'acousticness': audio_features[0]['acousticness'],\n",
        "                 'danceability': audio_features[0]['danceability'],\n",
        "                 'valence': audio_features[0]['valence'],\n",
        "                 'duration_ms': audio_features[0]['duration_ms'],\n",
        "                 'energy': audio_features[0]['energy'],\n",
        "                 'instrumentalness': audio_features[0]['instrumentalness'],\n",
        "                 'key': audio_features[0]['key'],\n",
        "                 'liveness': audio_features[0]['liveness'],\n",
        "                 'loudness': audio_features[0]['loudness'],\n",
        "                 'mode': audio_features[0]['mode'],\n",
        "                 'speechiness': audio_features[0]['speechiness'],\n",
        "                 'tempo': audio_features[0]['tempo'],\n",
        "                 'time_signature': audio_features[0]['time_signature']}\n",
        "    result.append(temp_dict)\n",
        "  return result"
      ],
      "execution_count": null,
      "outputs": []
    },
    {
      "cell_type": "code",
      "metadata": {
        "id": "XGITUY1jeHxE"
      },
      "source": [
        "house = [{'username': 'defected.records', 'playlist_id': '0ddswxfVNIQ3S6AYVCebL2', 'genre': 'house'},\n",
        "         {'username': 'beatportprofile', 'playlist_id': '49jfZzu0Zk8zz2SyJnsbMW', 'genre': 'house'},\n",
        "         {'username': 'beatportprofile', 'playlist_id': '7199Mt8qKjetHH0uAvKS3J', 'genre': 'house'}]"
      ],
      "execution_count": null,
      "outputs": []
    },
    {
      "cell_type": "code",
      "metadata": {
        "id": "lcovYltR--tf"
      },
      "source": [
        "tracks_house_raw = get_some_playlists_tracks(house)"
      ],
      "execution_count": null,
      "outputs": []
    },
    {
      "cell_type": "code",
      "metadata": {
        "id": "aRnFcgW3iZmg"
      },
      "source": [
        "tracks_house_info = mount_tracks_list(tracks_house_raw)"
      ],
      "execution_count": null,
      "outputs": []
    },
    {
      "cell_type": "code",
      "metadata": {
        "id": "X2V2BKypgfSm"
      },
      "source": [
        "proghouse_melodictechno = [{'username': 'afterliferecordings', 'playlist_id': '4YqlPeF8NyuiG6MymeSvK9', 'genre': 'proghouse_melodic'},\n",
        "                           {'username': 'lucasmamoru', 'playlist_id': '2Y7dy9SVtQ5hpjlsCOEIHk', 'genre': 'proghouse_melodic'},\n",
        "                           {'username': 'biavucyalnizlik', 'playlist_id': '0aUHXLjLoyw0cfDTayFVg9', 'genre': 'proghouse_melodic'},\n",
        "                           {'username': '11138390513', 'playlist_id': '6EH7SkbiK6hO5fo5HMedPX', 'genre': 'proghouse_melodic'},\n",
        "                           {'username': 'qrdyca242d6u388ltdms75u85', 'playlist_id': '2V90kmVbz0K1RiV9S10L6s', 'genre': 'proghouse_melodic'},\n",
        "                           {'username': '315q2kpoofonq2bojns2f6srg6v4', 'playlist_id': '2Nob2lfbDIJHRQZG0oVUZa', 'genre': 'proghouse_melodic'}]"
      ],
      "execution_count": null,
      "outputs": []
    },
    {
      "cell_type": "code",
      "metadata": {
        "id": "2687d3dcgRhQ"
      },
      "source": [
        "tracks_proghouse_melodictechno_raw = get_some_playlists_tracks(proghouse_melodictechno)"
      ],
      "execution_count": null,
      "outputs": []
    },
    {
      "cell_type": "code",
      "metadata": {
        "id": "tXiPax6Yig9K"
      },
      "source": [
        "tracks_proghouse_melodictechno_info = mount_tracks_list(tracks_proghouse_melodictechno_raw)"
      ],
      "execution_count": null,
      "outputs": []
    },
    {
      "cell_type": "code",
      "metadata": {
        "id": "qPd2BUBvl-kD"
      },
      "source": [
        "minimal_deeptech = [{'username': '12147271154', 'playlist_id': '3v4TVNtUyI8FOSXtATcT4L', 'genre': 'minimal_deeptech'},\n",
        "                    {'username': 'mario_hermosilla2017', 'playlist_id': '2ci8dkhUKYT9kdwuGQ314F', 'genre': 'minimal_deeptech'},\n",
        "                    {'username': 'dft73bz7owss3mncebwv2de9t', 'playlist_id': '2r7SLXW3MJ5qsPAyhwb6Xw', 'genre': 'minimal_deeptech'},\n",
        "                    {'username': '7zwiy25br70kfjlwho75cjzdac', 'playlist_id': '7195XAJniZPmmURfHy0ncX', 'genre': 'minimal_deeptech'},\n",
        "                    {'username': 'beatportprofile', 'playlist_id': '69j6wZIJgNvmllNqK6FLK7', 'genre': 'minimal_deeptech'},\n",
        "                    {'username': 'whenwedip', 'playlist_id': '0Q02ug6nqHCO10mZvPXx6t', 'genre': 'minimal_deeptech'},\n",
        "                    {'username': '111965131', 'playlist_id': '2FapRWib76OBXddtiAU1F1', 'genre': 'minimal_deeptech'}]"
      ],
      "execution_count": null,
      "outputs": []
    },
    {
      "cell_type": "code",
      "metadata": {
        "id": "RBSB1dAXvY30"
      },
      "source": [
        "tracks_minimal_deeptech_raw = get_some_playlists_tracks(minimal_deeptech)"
      ],
      "execution_count": null,
      "outputs": []
    },
    {
      "cell_type": "code",
      "metadata": {
        "id": "inqQv0GIinMg"
      },
      "source": [
        "tracks_minimal_deeptech_info = mount_tracks_list(tracks_minimal_deeptech_raw)"
      ],
      "execution_count": null,
      "outputs": []
    },
    {
      "cell_type": "code",
      "metadata": {
        "id": "sHi69deDW8Ps"
      },
      "source": [
        "tech_house = [{'username': 'futureofhouse', 'playlist_id': '7nppx7uLgcmkZHg70HNfOk', 'genre': 'tech_house'},\n",
        "              {'username': 'groovebassment', 'playlist_id': '3UUjNTeM8tYw7MufRbZkVB', 'genre': 'tech_house'},\n",
        "              {'username': 'beatportprofile', 'playlist_id': '6Pbk82RPOKWD7k6dNcqq9f', 'genre': 'tech_house'},\n",
        "              {'username': 'beatportprofile', 'playlist_id': '6vOxSPgszInu9FT8hZXuGs', 'genre': 'tech_house'},\n",
        "              {'username': 'dimitrimav7', 'playlist_id': '4DHEemg73kE4fbATsPB4vF', 'genre': 'tech_house'},\n",
        "              {'username': 'dimitrimav7', 'playlist_id': '3IVOgrhi6JspdGjafzXTuA', 'genre': 'tech_house'},\n",
        "              {'username': 'fholler96', 'playlist_id': '2upeklgOn5jCwKKiChAPWg', 'genre': 'tech_house'},\n",
        "              {'username': 'spotify', 'playlist_id': '37i9dQZF1DWVY4eLfA3XFQ', 'genre': 'tech_house'}]"
      ],
      "execution_count": null,
      "outputs": []
    },
    {
      "cell_type": "code",
      "metadata": {
        "id": "d6_RK1R0W8oL"
      },
      "source": [
        "tracks_tech_house_raw = get_some_playlists_tracks(tech_house)"
      ],
      "execution_count": null,
      "outputs": []
    },
    {
      "cell_type": "code",
      "metadata": {
        "id": "IPCND42Xise8"
      },
      "source": [
        "tracks_tech_house_info = mount_tracks_list(tracks_tech_house_raw)"
      ],
      "execution_count": null,
      "outputs": []
    },
    {
      "cell_type": "code",
      "metadata": {
        "id": "7tD7T_XPeaaP"
      },
      "source": [
        "techno = [{'username': 'lucasmamoru', 'playlist_id': '2MS2QfeHFwNqt4MqONLUNT', 'genre': 'techno'},\n",
        "          {'username': '7vntfi6dkgre39dxvm7ibqy35', 'playlist_id': '6MJSGcF4iV79gyo8xZpd8U', 'genre': 'techno'},\n",
        "          {'username': 'spotify', 'playlist_id': '37i9dQZF1DX6J5NfMJS675', 'genre': 'techno'},\n",
        "          {'username': 'drumcoderecords', 'playlist_id': '2a9vewgAKwZoYkJVBqJoLH', 'genre': 'techno'}]"
      ],
      "execution_count": null,
      "outputs": []
    },
    {
      "cell_type": "code",
      "metadata": {
        "id": "DEVrIBGueaqn"
      },
      "source": [
        "tracks_techno_raw = get_some_playlists_tracks(techno)"
      ],
      "execution_count": null,
      "outputs": []
    },
    {
      "cell_type": "code",
      "metadata": {
        "id": "THYxIe-zixvs"
      },
      "source": [
        "tracks_techno_info = mount_tracks_list(tracks_techno_raw)"
      ],
      "execution_count": null,
      "outputs": []
    },
    {
      "cell_type": "code",
      "metadata": {
        "id": "NjH1em09kyUX"
      },
      "source": [
        "tracks_house_data = mount_tracks_list_audio_features(tracks_house_info)\n",
        "df_house = pd.DataFrame(tracks_house_data)\n",
        "df_house.to_csv('house.csv')\n",
        "\n",
        "sleep(3600)\n",
        "\n",
        "tracks_proghouse_melodictechno_data = mount_tracks_list_audio_features(tracks_proghouse_melodictechno_info)\n",
        "df_proghouse_melodictechno = pd.DataFrame(tracks_proghouse_melodictechno_data)\n",
        "df_proghouse_melodictechno.to_csv('proghouse_melodictechno.csv')\n",
        "\n",
        "sleep(3600)\n",
        "\n",
        "tracks_minimal_deeptech_data = mount_tracks_list_audio_features(tracks_minimal_deeptech_info)\n",
        "df_minimal_deeptech = pd.DataFrame(tracks_minimal_deeptech_data)\n",
        "df_minimal_deeptech.to_csv('minimal_deeptech.csv')\n",
        "\n",
        "sleep(3600)\n",
        "\n",
        "tracks_tech_house_data = mount_tracks_list_audio_features(tracks_tech_house_info)\n",
        "df_tech_house = pd.DataFrame(tracks_tech_house_data)\n",
        "df_tech_house.to_csv('tech_house.csv')\n",
        "\n",
        "sleep(3600)\n",
        "\n",
        "tracks_techno_data = mount_tracks_list_audio_features(tracks_techno_info)\n",
        "df_techno = pd.DataFrame(tracks_techno_data)\n",
        "df_techno.to_csv('techno.csv')"
      ],
      "execution_count": null,
      "outputs": []
    },
    {
      "cell_type": "code",
      "metadata": {
        "id": "r0mJ0oamn21n"
      },
      "source": [
        "df1 = pd.read_csv('/content/drive/MyDrive/DS - Awari/spotify_project/house.csv')\n",
        "df2 = pd.read_csv('/content/drive/MyDrive/DS - Awari/spotify_project/minimal_deeptech.csv')\n",
        "df3 = pd.read_csv('/content/drive/MyDrive/DS - Awari/spotify_project/proghouse_melodictechno.csv')\n",
        "df4 = pd.read_csv('/content/drive/MyDrive/DS - Awari/spotify_project/tech_house.csv')\n",
        "df5 = pd.read_csv('/content/drive/MyDrive/DS - Awari/spotify_project/techno.csv')\n",
        "df = pd.concat([df1, df2, df3, df4, df5])"
      ],
      "execution_count": null,
      "outputs": []
    },
    {
      "cell_type": "code",
      "metadata": {
        "colab": {
          "base_uri": "https://localhost:8080/",
          "height": 395
        },
        "id": "8rF4nmUTpoDB",
        "outputId": "76d256c2-da8c-46c8-e0af-d63123913cf9"
      },
      "source": [
        "df.head()"
      ],
      "execution_count": null,
      "outputs": [
        {
          "output_type": "execute_result",
          "data": {
            "text/html": [
              "<div>\n",
              "<style scoped>\n",
              "    .dataframe tbody tr th:only-of-type {\n",
              "        vertical-align: middle;\n",
              "    }\n",
              "\n",
              "    .dataframe tbody tr th {\n",
              "        vertical-align: top;\n",
              "    }\n",
              "\n",
              "    .dataframe thead th {\n",
              "        text-align: right;\n",
              "    }\n",
              "</style>\n",
              "<table border=\"1\" class=\"dataframe\">\n",
              "  <thead>\n",
              "    <tr style=\"text-align: right;\">\n",
              "      <th></th>\n",
              "      <th>Unnamed: 0</th>\n",
              "      <th>id</th>\n",
              "      <th>name</th>\n",
              "      <th>artist</th>\n",
              "      <th>genre</th>\n",
              "      <th>acousticness</th>\n",
              "      <th>danceability</th>\n",
              "      <th>valence</th>\n",
              "      <th>duration_ms</th>\n",
              "      <th>energy</th>\n",
              "      <th>instrumentalness</th>\n",
              "      <th>key</th>\n",
              "      <th>liveness</th>\n",
              "      <th>loudness</th>\n",
              "      <th>mode</th>\n",
              "      <th>speechiness</th>\n",
              "      <th>tempo</th>\n",
              "      <th>time_signature</th>\n",
              "    </tr>\n",
              "  </thead>\n",
              "  <tbody>\n",
              "    <tr>\n",
              "      <th>0</th>\n",
              "      <td>0</td>\n",
              "      <td>5ydeCNaWDmFbu4zl0roPAH</td>\n",
              "      <td>Groovejet (If This Ain't Love) [feat. Sophie E...</td>\n",
              "      <td>Spiller</td>\n",
              "      <td>house</td>\n",
              "      <td>0.000132</td>\n",
              "      <td>0.719</td>\n",
              "      <td>0.626</td>\n",
              "      <td>227619</td>\n",
              "      <td>0.806</td>\n",
              "      <td>0.0889</td>\n",
              "      <td>9</td>\n",
              "      <td>0.3610</td>\n",
              "      <td>-6.802</td>\n",
              "      <td>0</td>\n",
              "      <td>0.0389</td>\n",
              "      <td>123.037</td>\n",
              "      <td>4</td>\n",
              "    </tr>\n",
              "    <tr>\n",
              "      <th>1</th>\n",
              "      <td>1</td>\n",
              "      <td>1kb5MBYPIwuOucLUzYqnxi</td>\n",
              "      <td>All I Want (feat. Jake Shears) - Purple Disco ...</td>\n",
              "      <td>Jake Shears</td>\n",
              "      <td>house</td>\n",
              "      <td>0.005450</td>\n",
              "      <td>0.681</td>\n",
              "      <td>0.841</td>\n",
              "      <td>210268</td>\n",
              "      <td>0.759</td>\n",
              "      <td>0.7000</td>\n",
              "      <td>8</td>\n",
              "      <td>0.0458</td>\n",
              "      <td>-7.133</td>\n",
              "      <td>0</td>\n",
              "      <td>0.0296</td>\n",
              "      <td>121.008</td>\n",
              "      <td>4</td>\n",
              "    </tr>\n",
              "    <tr>\n",
              "      <th>2</th>\n",
              "      <td>2</td>\n",
              "      <td>1gOJTtLoFhsSTX7OEiKzuI</td>\n",
              "      <td>Get It Right (feat. Shawnee Taylor) - Club Mix...</td>\n",
              "      <td>Harry Romero</td>\n",
              "      <td>house</td>\n",
              "      <td>0.001300</td>\n",
              "      <td>0.799</td>\n",
              "      <td>0.576</td>\n",
              "      <td>147440</td>\n",
              "      <td>0.903</td>\n",
              "      <td>0.0491</td>\n",
              "      <td>6</td>\n",
              "      <td>0.1540</td>\n",
              "      <td>-6.135</td>\n",
              "      <td>1</td>\n",
              "      <td>0.0674</td>\n",
              "      <td>124.004</td>\n",
              "      <td>4</td>\n",
              "    </tr>\n",
              "    <tr>\n",
              "      <th>3</th>\n",
              "      <td>3</td>\n",
              "      <td>7IQYnbKrjET0nZbWxbpLpx</td>\n",
              "      <td>You Are The One</td>\n",
              "      <td>Ferreck Dawn</td>\n",
              "      <td>house</td>\n",
              "      <td>0.040400</td>\n",
              "      <td>0.845</td>\n",
              "      <td>0.636</td>\n",
              "      <td>155122</td>\n",
              "      <td>0.710</td>\n",
              "      <td>0.0191</td>\n",
              "      <td>0</td>\n",
              "      <td>0.1140</td>\n",
              "      <td>-7.704</td>\n",
              "      <td>0</td>\n",
              "      <td>0.0495</td>\n",
              "      <td>125.015</td>\n",
              "      <td>4</td>\n",
              "    </tr>\n",
              "    <tr>\n",
              "      <th>4</th>\n",
              "      <td>4</td>\n",
              "      <td>2cYoxKPVUDFhFx7J1vjRl9</td>\n",
              "      <td>Feeling U (feat. Yasmin)</td>\n",
              "      <td>Sonny Fodera</td>\n",
              "      <td>house</td>\n",
              "      <td>0.213000</td>\n",
              "      <td>0.822</td>\n",
              "      <td>0.788</td>\n",
              "      <td>291064</td>\n",
              "      <td>0.548</td>\n",
              "      <td>0.0625</td>\n",
              "      <td>0</td>\n",
              "      <td>0.2230</td>\n",
              "      <td>-6.537</td>\n",
              "      <td>1</td>\n",
              "      <td>0.0409</td>\n",
              "      <td>122.010</td>\n",
              "      <td>4</td>\n",
              "    </tr>\n",
              "  </tbody>\n",
              "</table>\n",
              "</div>"
            ],
            "text/plain": [
              "   Unnamed: 0                      id  ...    tempo time_signature\n",
              "0           0  5ydeCNaWDmFbu4zl0roPAH  ...  123.037              4\n",
              "1           1  1kb5MBYPIwuOucLUzYqnxi  ...  121.008              4\n",
              "2           2  1gOJTtLoFhsSTX7OEiKzuI  ...  124.004              4\n",
              "3           3  7IQYnbKrjET0nZbWxbpLpx  ...  125.015              4\n",
              "4           4  2cYoxKPVUDFhFx7J1vjRl9  ...  122.010              4\n",
              "\n",
              "[5 rows x 18 columns]"
            ]
          },
          "metadata": {
            "tags": []
          },
          "execution_count": 68
        }
      ]
    },
    {
      "cell_type": "code",
      "metadata": {
        "id": "zQbFQUnZpvHB"
      },
      "source": [
        "df = df.drop(columns='Unnamed: 0')"
      ],
      "execution_count": null,
      "outputs": []
    },
    {
      "cell_type": "code",
      "metadata": {
        "id": "YJ9BCVhzqFH6"
      },
      "source": [
        "df.to_csv('full_dataset.csv')"
      ],
      "execution_count": null,
      "outputs": []
    }
  ]
}