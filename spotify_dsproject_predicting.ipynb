{
  "nbformat": 4,
  "nbformat_minor": 0,
  "metadata": {
    "colab": {
      "provenance": [],
      "collapsed_sections": [],
      "mount_file_id": "1hcMO5zWl-VmjeN7ztcgyRnqUbOrhfXL5",
      "authorship_tag": "ABX9TyPoHSsAvLe5KDP91cVWS1u+",
      "include_colab_link": true
    },
    "kernelspec": {
      "name": "python3",
      "display_name": "Python 3"
    },
    "language_info": {
      "name": "python"
    }
  },
  "cells": [
    {
      "cell_type": "markdown",
      "metadata": {
        "id": "view-in-github",
        "colab_type": "text"
      },
      "source": [
        "<a href=\"https://colab.research.google.com/github/gfrts/spotify_dsproject/blob/main/spotify_dsproject_ml.ipynb\" target=\"_parent\"><img src=\"https://colab.research.google.com/assets/colab-badge.svg\" alt=\"Open In Colab\"/></a>"
      ]
    },
    {
      "cell_type": "code",
      "metadata": {
        "id": "-fex68o506Er"
      },
      "source": [
        "import pandas as pd\n",
        "from sklearn.model_selection import train_test_split\n",
        "from sklearn.ensemble import RandomForestClassifier\n",
        "from sklearn import metrics"
      ],
      "execution_count": null,
      "outputs": []
    },
    {
      "cell_type": "code",
      "metadata": {
        "colab": {
          "base_uri": "https://localhost:8080/",
          "height": 564
        },
        "id": "n27DJg2j1Q5O",
        "outputId": "388f67c1-25fa-4200-bcf5-0e655b0d984e"
      },
      "source": [
        "df = pd.read_csv('/content/drive/MyDrive/DS - Awari/spotify_project/final_dataset.csv')\n",
        "df = df.drop('Unnamed: 0', axis=1)\n",
        "df.head()"
      ],
      "execution_count": null,
      "outputs": [
        {
          "output_type": "execute_result",
          "data": {
            "text/html": [
              "<div>\n",
              "<style scoped>\n",
              "    .dataframe tbody tr th:only-of-type {\n",
              "        vertical-align: middle;\n",
              "    }\n",
              "\n",
              "    .dataframe tbody tr th {\n",
              "        vertical-align: top;\n",
              "    }\n",
              "\n",
              "    .dataframe thead th {\n",
              "        text-align: right;\n",
              "    }\n",
              "</style>\n",
              "<table border=\"1\" class=\"dataframe\">\n",
              "  <thead>\n",
              "    <tr style=\"text-align: right;\">\n",
              "      <th></th>\n",
              "      <th>id</th>\n",
              "      <th>name</th>\n",
              "      <th>artist</th>\n",
              "      <th>genre</th>\n",
              "      <th>acousticness</th>\n",
              "      <th>danceability</th>\n",
              "      <th>valence</th>\n",
              "      <th>duration_ms</th>\n",
              "      <th>energy</th>\n",
              "      <th>instrumentalness</th>\n",
              "      <th>liveness</th>\n",
              "      <th>loudness</th>\n",
              "      <th>speechiness</th>\n",
              "      <th>tempo</th>\n",
              "    </tr>\n",
              "  </thead>\n",
              "  <tbody>\n",
              "    <tr>\n",
              "      <th>0</th>\n",
              "      <td>5ydeCNaWDmFbu4zl0roPAH</td>\n",
              "      <td>Groovejet (If This Ain't Love) [feat. Sophie E...</td>\n",
              "      <td>Spiller</td>\n",
              "      <td>house</td>\n",
              "      <td>0.000132</td>\n",
              "      <td>0.719</td>\n",
              "      <td>0.626</td>\n",
              "      <td>227619</td>\n",
              "      <td>0.806</td>\n",
              "      <td>0.0889</td>\n",
              "      <td>0.3610</td>\n",
              "      <td>-6.802</td>\n",
              "      <td>0.0389</td>\n",
              "      <td>123</td>\n",
              "    </tr>\n",
              "    <tr>\n",
              "      <th>1</th>\n",
              "      <td>1kb5MBYPIwuOucLUzYqnxi</td>\n",
              "      <td>All I Want (feat. Jake Shears) - Purple Disco ...</td>\n",
              "      <td>Jake Shears</td>\n",
              "      <td>house</td>\n",
              "      <td>0.005450</td>\n",
              "      <td>0.681</td>\n",
              "      <td>0.841</td>\n",
              "      <td>210268</td>\n",
              "      <td>0.759</td>\n",
              "      <td>0.7000</td>\n",
              "      <td>0.0458</td>\n",
              "      <td>-7.133</td>\n",
              "      <td>0.0296</td>\n",
              "      <td>121</td>\n",
              "    </tr>\n",
              "    <tr>\n",
              "      <th>2</th>\n",
              "      <td>1gOJTtLoFhsSTX7OEiKzuI</td>\n",
              "      <td>Get It Right (feat. Shawnee Taylor) - Club Mix...</td>\n",
              "      <td>Harry Romero</td>\n",
              "      <td>house</td>\n",
              "      <td>0.001300</td>\n",
              "      <td>0.799</td>\n",
              "      <td>0.576</td>\n",
              "      <td>147440</td>\n",
              "      <td>0.903</td>\n",
              "      <td>0.0491</td>\n",
              "      <td>0.1540</td>\n",
              "      <td>-6.135</td>\n",
              "      <td>0.0674</td>\n",
              "      <td>124</td>\n",
              "    </tr>\n",
              "    <tr>\n",
              "      <th>3</th>\n",
              "      <td>7IQYnbKrjET0nZbWxbpLpx</td>\n",
              "      <td>You Are The One</td>\n",
              "      <td>Ferreck Dawn</td>\n",
              "      <td>house</td>\n",
              "      <td>0.040400</td>\n",
              "      <td>0.845</td>\n",
              "      <td>0.636</td>\n",
              "      <td>155122</td>\n",
              "      <td>0.710</td>\n",
              "      <td>0.0191</td>\n",
              "      <td>0.1140</td>\n",
              "      <td>-7.704</td>\n",
              "      <td>0.0495</td>\n",
              "      <td>125</td>\n",
              "    </tr>\n",
              "    <tr>\n",
              "      <th>4</th>\n",
              "      <td>2cYoxKPVUDFhFx7J1vjRl9</td>\n",
              "      <td>Feeling U (feat. Yasmin)</td>\n",
              "      <td>Sonny Fodera</td>\n",
              "      <td>house</td>\n",
              "      <td>0.213000</td>\n",
              "      <td>0.822</td>\n",
              "      <td>0.788</td>\n",
              "      <td>291064</td>\n",
              "      <td>0.548</td>\n",
              "      <td>0.0625</td>\n",
              "      <td>0.2230</td>\n",
              "      <td>-6.537</td>\n",
              "      <td>0.0409</td>\n",
              "      <td>122</td>\n",
              "    </tr>\n",
              "  </tbody>\n",
              "</table>\n",
              "</div>"
            ],
            "text/plain": [
              "                       id  ... tempo\n",
              "0  5ydeCNaWDmFbu4zl0roPAH  ...   123\n",
              "1  1kb5MBYPIwuOucLUzYqnxi  ...   121\n",
              "2  1gOJTtLoFhsSTX7OEiKzuI  ...   124\n",
              "3  7IQYnbKrjET0nZbWxbpLpx  ...   125\n",
              "4  2cYoxKPVUDFhFx7J1vjRl9  ...   122\n",
              "\n",
              "[5 rows x 14 columns]"
            ]
          },
          "metadata": {
            "tags": []
          },
          "execution_count": 8
        }
      ]
    },
    {
      "cell_type": "code",
      "metadata": {
        "id": "oIbqakMH1U6k"
      },
      "source": [
        "X = df.drop(['id', 'name', 'artist', 'genre'], axis=1)\n",
        "y = df['genre']\n",
        "\n",
        "X_train, X_test, y_train, y_test = train_test_split(X, y, test_size=0.3)"
      ],
      "execution_count": null,
      "outputs": []
    },
    {
      "cell_type": "code",
      "metadata": {
        "id": "QzPoQ0qp3Xlk"
      },
      "source": [
        "rfc=RandomForestClassifier(n_estimators=100)\n",
        "\n",
        "rfc.fit(X_train,y_train)\n",
        "\n",
        "y_pred=rfc.predict(X_test)"
      ],
      "execution_count": null,
      "outputs": []
    },
    {
      "cell_type": "code",
      "metadata": {
        "colab": {
          "base_uri": "https://localhost:8080/"
        },
        "id": "G0nnO3Fl3pJj",
        "outputId": "18af5d11-122d-4dc4-f8b6-75fdfce7aa24"
      },
      "source": [
        "print(\"Accuracy:\",metrics.accuracy_score(y_test, y_pred))"
      ],
      "execution_count": null,
      "outputs": [
        {
          "output_type": "stream",
          "text": [
            "Accuracy: 0.6885035324341683\n"
          ],
          "name": "stdout"
        }
      ]
    },
    {
      "cell_type": "code",
      "metadata": {
        "id": "Qr_hgTKR4c2d"
      },
      "source": [
        "X2 = df.drop(['id', 'name', 'artist', 'genre', 'acousticness', 'energy', 'liveness', 'speechiness'], axis=1)\n",
        "y2 = df['genre']\n",
        "\n",
        "X2_train, X2_test, y2_train, y2_test = train_test_split(X, y, test_size=0.3)"
      ],
      "execution_count": null,
      "outputs": []
    },
    {
      "cell_type": "code",
      "metadata": {
        "id": "AaLJVuuB5FU-"
      },
      "source": [
        "rfc2=RandomForestClassifier(n_estimators=100)\n",
        "\n",
        "rfc2.fit(X2_train,y2_train)\n",
        "\n",
        "y2_pred=rfc.predict(X2_test)"
      ],
      "execution_count": null,
      "outputs": []
    },
    {
      "cell_type": "code",
      "metadata": {
        "colab": {
          "base_uri": "https://localhost:8080/"
        },
        "id": "12pIEJXn5JB_",
        "outputId": "d2422040-3ee9-4fac-85f6-8487b809c6ab"
      },
      "source": [
        "print(\"Accuracy:\",metrics.accuracy_score(y2_test, y2_pred))"
      ],
      "execution_count": null,
      "outputs": [
        {
          "output_type": "stream",
          "text": [
            "Accuracy: 0.9075144508670521\n"
          ],
          "name": "stdout"
        }
      ]
    },
    {
      "cell_type": "code",
      "metadata": {
        "id": "aLyCoqKh5K7-",
        "colab": {
          "base_uri": "https://localhost:8080/"
        },
        "outputId": "3cee89f9-901f-406f-ee58-46711c3e9ab7"
      },
      "source": [
        "y2_train.value_counts(normalize=True)"
      ],
      "execution_count": null,
      "outputs": [
        {
          "output_type": "execute_result",
          "data": {
            "text/plain": [
              "techno               0.216075\n",
              "house                0.211396\n",
              "proghouse_melodic    0.195431\n",
              "tech_house           0.192403\n",
              "minimal_deeptech     0.184696\n",
              "Name: genre, dtype: float64"
            ]
          },
          "metadata": {
            "tags": []
          },
          "execution_count": 15
        }
      ]
    },
    {
      "cell_type": "code",
      "metadata": {
        "colab": {
          "base_uri": "https://localhost:8080/"
        },
        "id": "AuSn3whkD5x1",
        "outputId": "a6dff5e2-8313-4f85-8686-1443a4013f3b"
      },
      "source": [
        "y2_test.value_counts(normalize=True)"
      ],
      "execution_count": null,
      "outputs": [
        {
          "output_type": "execute_result",
          "data": {
            "text/plain": [
              "house                0.213231\n",
              "techno               0.206166\n",
              "tech_house           0.202954\n",
              "minimal_deeptech     0.190751\n",
              "proghouse_melodic    0.186898\n",
              "Name: genre, dtype: float64"
            ]
          },
          "metadata": {
            "tags": []
          },
          "execution_count": 16
        }
      ]
    },
    {
      "cell_type": "code",
      "metadata": {
        "id": "lg0flubKENnM"
      },
      "source": [],
      "execution_count": null,
      "outputs": []
    }
  ]
}
